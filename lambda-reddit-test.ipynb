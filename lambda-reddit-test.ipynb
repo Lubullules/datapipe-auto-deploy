{
 "cells": [
  {
   "cell_type": "code",
   "execution_count": null,
   "id": "516f4515",
   "metadata": {},
   "outputs": [],
   "source": [
    "import urllib3\n",
    "import json\n",
    "from urllib.parse import urlencode\n",
    "import base64\n",
    "import json\n"
   ]
  },
  {
   "cell_type": "code",
   "execution_count": 6,
   "id": "be0812e1",
   "metadata": {},
   "outputs": [],
   "source": [
    "# ----- Étape 0 : Déclaration des Variables -----\n",
    "reddit_username = \"BusinessAd4873\"\n",
    "reddit_password = \"magodassearthur123\"\n",
    "user_agent = \"python:com.example.myredditapp:v1.0 (by /u/BusinessAd4873)\"\n",
    "client_id = \"ECL9oz9sGlFbawRB95ZcrA\"\n",
    "client_secret = \"DPGGI-B9u-MAbJX_HDG_rtxTfHaLLQ\"\n",
    "\n",
    "basic_auth = f\"{client_id}:{client_secret}\"\n",
    "encoded_auth = base64.b64encode(basic_auth.encode()).decode()"
   ]
  },
  {
   "cell_type": "code",
   "execution_count": 7,
   "id": "ccbb2577",
   "metadata": {},
   "outputs": [],
   "source": [
    "\n",
    "# ----- Étape 1 : Récupérer le token OAuth -----\n",
    "\n",
    "auth_url = \"https://www.reddit.com/api/v1/access_token\"\n",
    "\n",
    "auth_payload = {\n",
    "    \"grant_type\": \"password\",\n",
    "    \"username\": reddit_username,\n",
    "    \"password\": reddit_password\n",
    "}\n",
    "\n",
    "auth_headers = {\n",
    "    \"authorization\": f\"Basic {encoded_auth}\",\n",
    "    \"content-type\": \"application/x-www-form-urlencoded\",\n",
    "    \"user-agent\": user_agent  # Reddit exige un User-Agent\n",
    "}\n",
    "\n",
    "http = urllib3.PoolManager()\n",
    "\n",
    "encoded_auth_data = urlencode(auth_payload)\n",
    "\n",
    "auth_response = http.request(\n",
    "    \"POST\",\n",
    "    auth_url,\n",
    "    body=encoded_auth_data,\n",
    "    headers=auth_headers\n",
    ")\n",
    "\n",
    "auth_data = json.loads(auth_response.data.decode(\"utf-8\"))\n",
    "access_token = auth_data.get(\"access_token\")\n"
   ]
  },
  {
   "cell_type": "code",
   "execution_count": null,
   "id": "91de2fd8",
   "metadata": {},
   "outputs": [],
   "source": [
    "\n",
    "# ----- Étape 2 : Appel à l'API OAuth avec le token -----\n",
    "\n",
    "api_url = \"https://oauth.reddit.com/r/cryptocurrency/new/?limit=50\"\n",
    "\n",
    "api_headers = {\n",
    "    \"authorization\": f\"bearer {access_token}\",\n",
    "    \"user-agent\": user_agent\n",
    "}\n",
    "\n",
    "api_response = http.request(\n",
    "    \"GET\",\n",
    "    api_url,\n",
    "    headers=api_headers\n",
    ")\n"
   ]
  },
  {
   "cell_type": "code",
   "execution_count": 11,
   "id": "420e06bf",
   "metadata": {},
   "outputs": [
    {
     "name": "stdout",
     "output_type": "stream",
     "text": [
      "✅ Données filtrées et exportées dans cryptoposts.json\n"
     ]
    }
   ],
   "source": [
    "# On décode la réponse API\n",
    "data = json.loads(api_response.data.decode(\"utf-8\"))\n",
    "\n",
    "# On extrait et filtre uniquement les champs utiles\n",
    "posts = [\n",
    "    {\n",
    "        \"id\": post[\"data\"].get(\"id\"),\n",
    "        \"title\": post[\"data\"].get(\"title\"),\n",
    "        \"selftext\": post[\"data\"].get(\"selftext\")\n",
    "    }\n",
    "    for post in data.get(\"data\", {}).get(\"children\", [])\n",
    "]\n",
    "\n",
    "# On enregistre dans un fichier JSON\n",
    "with open(\"cryptoposts.json\", \"w\", encoding=\"utf-8\") as f:\n",
    "    json.dump(posts, f, ensure_ascii=False, indent=2)\n",
    "\n",
    "print(\"✅ Données filtrées et exportées dans cryptoposts.json\")"
   ]
  }
 ],
 "metadata": {
  "kernelspec": {
   "display_name": "Python 3",
   "language": "python",
   "name": "python3"
  },
  "language_info": {
   "codemirror_mode": {
    "name": "ipython",
    "version": 3
   },
   "file_extension": ".py",
   "mimetype": "text/x-python",
   "name": "python",
   "nbconvert_exporter": "python",
   "pygments_lexer": "ipython3",
   "version": "3.10.11"
  }
 },
 "nbformat": 4,
 "nbformat_minor": 5
}
