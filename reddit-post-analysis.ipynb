{
 "cells": [
  {
   "cell_type": "code",
   "execution_count": 28,
   "id": "0ae52947",
   "metadata": {},
   "outputs": [
    {
     "name": "stderr",
     "output_type": "stream",
     "text": [
      "[nltk_data] Downloading package vader_lexicon to\n",
      "[nltk_data]     C:\\Users\\berta\\AppData\\Roaming\\nltk_data...\n",
      "[nltk_data]   Package vader_lexicon is already up-to-date!\n",
      "[nltk_data] Downloading package punkt_tab to\n",
      "[nltk_data]     C:\\Users\\berta\\AppData\\Roaming\\nltk_data...\n",
      "[nltk_data]   Package punkt_tab is already up-to-date!\n"
     ]
    },
    {
     "data": {
      "text/plain": [
       "True"
      ]
     },
     "execution_count": 28,
     "metadata": {},
     "output_type": "execute_result"
    }
   ],
   "source": [
    "import spacy\n",
    "import re\n",
    "from nltk.sentiment.vader import SentimentIntensityAnalyzer\n",
    "import nltk\n",
    "nltk.download('vader_lexicon')\n",
    "nltk.download('punkt_tab')"
   ]
  },
  {
   "cell_type": "code",
   "execution_count": 34,
   "id": "d7edb4ca",
   "metadata": {},
   "outputs": [],
   "source": [
    "sentence = \"Solana is cool but Ethereum is trash. I like Bitcoin though\"\n",
    "cryptos = [\"solana\", \"ethereum\", \"bitcoin\"]\n",
    "\n",
    "analyzer = SentimentIntensityAnalyzer()"
   ]
  },
  {
   "cell_type": "code",
   "execution_count": 45,
   "id": "da52d23f",
   "metadata": {},
   "outputs": [
    {
     "name": "stdout",
     "output_type": "stream",
     "text": [
      "solana is cool \n",
      " ethereum is trash\n",
      "i like bitcoin though\n",
      "{'solana': {'neg': 0.0, 'neu': 0.465, 'pos': 0.535, 'compound': 0.3182}, 'ethereum': {'neg': 0.0, 'neu': 1.0, 'pos': 0.0, 'compound': 0.0}, 'bitcoin': {'neg': 0.0, 'neu': 0.444, 'pos': 0.556, 'compound': 0.3612}}\n"
     ]
    }
   ],
   "source": [
    "# Découper la phrase autour des conjonctions contrastives\n",
    "parts = re.split(r\"\\bbut\\b|\\bhowever\\b|\\balthough\\b|\\bwhereas\\b|[;,.]\\s*\", sentence.lower())\n",
    "\n",
    "results = {}\n",
    "\n",
    "for part in parts:\n",
    "    print(part)\n",
    "    for crypto in cryptos:\n",
    "        if crypto in part:\n",
    "            score = analyzer.polarity_scores(part)\n",
    "            results[crypto] = score\n",
    "\n",
    "print(results)"
   ]
  },
  {
   "cell_type": "code",
   "execution_count": null,
   "id": "19d041c8",
   "metadata": {},
   "outputs": [
    {
     "name": "stdout",
     "output_type": "stream",
     "text": [
      "{'solana': 0.1655, 'ethereum': 0.1655}\n"
     ]
    }
   ],
   "source": [
    "nlp = spacy.load(\"en_core_web_sm\")\n",
    "\n",
    "doc = nlp(sentence.lower())\n",
    "\n",
    "results = {}\n",
    "\n",
    "for token in doc:\n",
    "    if token.text in cryptos:\n",
    "        # Créer une fenêtre autour de la crypto (par exemple 3 tokens avant et après)\n",
    "        start = max(0, token.i - 3)\n",
    "        end = min(len(doc), token.i + 4)\n",
    "        context = doc[start:end].text\n",
    "        score = analyzer.polarity_scores(context)[\"compound\"]\n",
    "        label = \"positive\" if score > 0 else \"negative\" if score < -0 else \"neutral\"\n",
    "        results[token.text] = score\n",
    "\n",
    "print(results)"
   ]
  }
 ],
 "metadata": {
  "kernelspec": {
   "display_name": "Python 3",
   "language": "python",
   "name": "python3"
  },
  "language_info": {
   "codemirror_mode": {
    "name": "ipython",
    "version": 3
   },
   "file_extension": ".py",
   "mimetype": "text/x-python",
   "name": "python",
   "nbconvert_exporter": "python",
   "pygments_lexer": "ipython3",
   "version": "3.10.11"
  }
 },
 "nbformat": 4,
 "nbformat_minor": 5
}
