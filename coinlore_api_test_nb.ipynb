{
 "cells": [
  {
   "cell_type": "markdown",
   "metadata": {},
   "source": [
    "# Crypto Data Fetcher\n",
    "\n",
    "This Jupyter Notebook is designed to fetch and save cryptocurrency data using the Coinlore API. The notebook includes functions to:\n",
    "\n",
    "1. Retrieve cryptocurrency data from the Coinlore API.\n",
    "2. Save the retrieved data to a JSON file with a timestamped filename.\n",
    "3. Interactively input the starting rank and the number of cryptocurrencies to fetch.\n",
    "\n",
    "The main function orchestrates the workflow by prompting the user for input, fetching the data, and saving it to a file.\n",
    "\n",
    "Here is the link to the Coinlore API documentation: https://www.coinlore.com/cryptocurrency-data-api"
   ]
  },
  {
   "cell_type": "code",
   "execution_count": 1,
   "metadata": {},
   "outputs": [],
   "source": [
    "import requests\n",
    "import datetime\n",
    "import json"
   ]
  },
  {
   "cell_type": "code",
   "execution_count": 2,
   "metadata": {},
   "outputs": [],
   "source": [
    "def get_crypto_data(start, limit):\n",
    "    url = f\"https://api.coinlore.net/api/tickers/?start={start}&limit={limit}\"\n",
    "    response = requests.get(url)\n",
    "    \n",
    "    if response.status_code == 200:\n",
    "        return response.json()\n",
    "    else:\n",
    "        print(\"Erreur lors de la récupération des données.\")\n",
    "        return {}"
   ]
  },
  {
   "cell_type": "code",
   "execution_count": 3,
   "metadata": {},
   "outputs": [],
   "source": [
    "def save_json_to_file(data):\n",
    "    now = datetime.datetime.now().strftime(\"%Y-%m-%d_%H-%M-%S\")\n",
    "    filename = f\"resultat_{now}.json\"\n",
    "\n",
    "    with open(filename, \"w\", encoding=\"utf-8\") as file:\n",
    "        json.dump(data, file, indent=4)\n",
    "\n",
    "    print(f\"Le résultat a été enregistré dans {filename}\")"
   ]
  },
  {
   "cell_type": "code",
   "execution_count": null,
   "metadata": {},
   "outputs": [
    {
     "name": "stdout",
     "output_type": "stream",
     "text": [
      "Le résultat a été enregistré dans resultat_2025-03-12_17-40-28.json\n"
     ]
    }
   ],
   "source": [
    "def main():\n",
    "    try:\n",
    "        start = int(input(\"A quel rang commencer ? (start) : \"))\n",
    "        limit = int(input(\"Combien de cryptos voulez-vous récupérer ? (limit) : \"))\n",
    "\n",
    "        data = get_crypto_data(start, limit)\n",
    "\n",
    "        if data:\n",
    "            save_json_to_file(data)\n",
    "        else:\n",
    "            print(\"Aucune donnée récupérée.\")\n",
    "    \n",
    "    except ValueError:\n",
    "        print(\"Veuillez entrer des nombres valides.\")\n",
    "\n",
    "if __name__ == \"__main__\":\n",
    "    main()"
   ]
  }
 ],
 "metadata": {
  "kernelspec": {
   "display_name": "Python 3",
   "language": "python",
   "name": "python3"
  },
  "language_info": {
   "codemirror_mode": {
    "name": "ipython",
    "version": 3
   },
   "file_extension": ".py",
   "mimetype": "text/x-python",
   "name": "python",
   "nbconvert_exporter": "python",
   "pygments_lexer": "ipython3",
   "version": "3.10.11"
  }
 },
 "nbformat": 4,
 "nbformat_minor": 2
}
